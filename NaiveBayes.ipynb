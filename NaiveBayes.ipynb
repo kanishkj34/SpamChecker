{
 "cells": [
  {
   "cell_type": "code",
   "execution_count": 7,
   "metadata": {
    "collapsed": true
   },
   "outputs": [],
   "source": [
    "#importing pandas\n",
    "import pandas as pd"
   ]
  },
  {
   "cell_type": "code",
   "execution_count": 11,
   "metadata": {
    "collapsed": false
   },
   "outputs": [
    {
     "data": {
      "text/html": [
       "<div>\n",
       "<table border=\"1\" class=\"dataframe\">\n",
       "  <thead>\n",
       "    <tr style=\"text-align: right;\">\n",
       "      <th></th>\n",
       "      <th>v1</th>\n",
       "      <th>v2</th>\n",
       "      <th>Unnamed: 2</th>\n",
       "      <th>Unnamed: 3</th>\n",
       "      <th>Unnamed: 4</th>\n",
       "    </tr>\n",
       "  </thead>\n",
       "  <tbody>\n",
       "    <tr>\n",
       "      <th>0</th>\n",
       "      <td>ham</td>\n",
       "      <td>Go until jurong point, crazy.. Available only ...</td>\n",
       "      <td>NaN</td>\n",
       "      <td>NaN</td>\n",
       "      <td>NaN</td>\n",
       "    </tr>\n",
       "    <tr>\n",
       "      <th>1</th>\n",
       "      <td>ham</td>\n",
       "      <td>Ok lar... Joking wif u oni...</td>\n",
       "      <td>NaN</td>\n",
       "      <td>NaN</td>\n",
       "      <td>NaN</td>\n",
       "    </tr>\n",
       "    <tr>\n",
       "      <th>2</th>\n",
       "      <td>spam</td>\n",
       "      <td>Free entry in 2 a wkly comp to win FA Cup fina...</td>\n",
       "      <td>NaN</td>\n",
       "      <td>NaN</td>\n",
       "      <td>NaN</td>\n",
       "    </tr>\n",
       "    <tr>\n",
       "      <th>3</th>\n",
       "      <td>ham</td>\n",
       "      <td>U dun say so early hor... U c already then say...</td>\n",
       "      <td>NaN</td>\n",
       "      <td>NaN</td>\n",
       "      <td>NaN</td>\n",
       "    </tr>\n",
       "    <tr>\n",
       "      <th>4</th>\n",
       "      <td>ham</td>\n",
       "      <td>Nah I don't think he goes to usf, he lives aro...</td>\n",
       "      <td>NaN</td>\n",
       "      <td>NaN</td>\n",
       "      <td>NaN</td>\n",
       "    </tr>\n",
       "  </tbody>\n",
       "</table>\n",
       "</div>"
      ],
      "text/plain": [
       "     v1                                                 v2 Unnamed: 2  \\\n",
       "0   ham  Go until jurong point, crazy.. Available only ...        NaN   \n",
       "1   ham                      Ok lar... Joking wif u oni...        NaN   \n",
       "2  spam  Free entry in 2 a wkly comp to win FA Cup fina...        NaN   \n",
       "3   ham  U dun say so early hor... U c already then say...        NaN   \n",
       "4   ham  Nah I don't think he goes to usf, he lives aro...        NaN   \n",
       "\n",
       "  Unnamed: 3 Unnamed: 4  \n",
       "0        NaN        NaN  \n",
       "1        NaN        NaN  \n",
       "2        NaN        NaN  \n",
       "3        NaN        NaN  \n",
       "4        NaN        NaN  "
      ]
     },
     "execution_count": 11,
     "metadata": {},
     "output_type": "execute_result"
    }
   ],
   "source": [
    "df = pd.read_csv('spam.csv', encoding='latin-1')\n",
    "df.head()"
   ]
  },
  {
   "cell_type": "code",
   "execution_count": 12,
   "metadata": {
    "collapsed": false
   },
   "outputs": [
    {
     "data": {
      "text/plain": [
       "(5572, 5)"
      ]
     },
     "execution_count": 12,
     "metadata": {},
     "output_type": "execute_result"
    }
   ],
   "source": [
    "df.shape"
   ]
  },
  {
   "cell_type": "code",
   "execution_count": 16,
   "metadata": {
    "collapsed": false,
    "scrolled": true
   },
   "outputs": [
    {
     "name": "stdout",
     "output_type": "stream",
     "text": [
      "3130    LookAtMe!: Thanks for your purchase of a video...\n",
      "106           Aight, I'll hit you up when I get some cash\n",
      "4697                           Don no da:)whats you plan?\n",
      "856                         Going to take your babe out ?\n",
      "3454    No need lar. Jus testing e phone card. Dunno n...\n",
      "2095                      Probably, want to pick up more?\n",
      "800     Last Chance! Claim ur å£150 worth of discount ...\n",
      "5181    K sure am in my relatives home. Sms me de. Pls:-)\n",
      "4239    The LAY MAN! Just to let you know you are miss...\n",
      "4417                           When you get free, call me\n",
      "Name: v2, dtype: object\n",
      "KJ\n",
      "  (0, 4447)\t0.460284912592\n",
      "  (0, 7200)\t0.163248247172\n",
      "  (0, 3137)\t0.0984238824146\n",
      "  (0, 8156)\t0.0996053050366\n",
      "  (0, 5819)\t0.250504415332\n",
      "  (0, 5174)\t0.102426140378\n",
      "  (0, 7705)\t0.324568003175\n",
      "  (0, 1970)\t0.271851684175\n",
      "  (0, 3224)\t0.122300733507\n",
      "  (0, 8150)\t0.118013534293\n",
      "  (0, 7682)\t0.15530772968\n",
      "  (0, 1383)\t0.148716702655\n",
      "  (0, 1851)\t0.21934953621\n",
      "  (0, 478)\t0.271851684175\n",
      "  (0, 7245)\t0.146013424599\n",
      "  (0, 1743)\t0.11141201918\n",
      "  (0, 2538)\t0.115644909871\n",
      "  (0, 1425)\t0.182835174112\n",
      "  (0, 7936)\t0.160644082652\n",
      "  (0, 5110)\t0.110581844957\n",
      "  (0, 6363)\t0.133268350836\n",
      "  (0, 3863)\t0.090064750337\n",
      "  (0, 4806)\t0.271851684175\n",
      "  (0, 472)\t0.271851684175\n",
      "  (1, 8150)\t0.160088591448\n",
      "  :\t:\n",
      "  (8, 4590)\t0.200793180274\n",
      "  (8, 4110)\t0.129529092589\n",
      "  (8, 4332)\t0.181598012047\n",
      "  (8, 4202)\t0.143928572963\n",
      "  (8, 1117)\t0.122793433021\n",
      "  (8, 4780)\t0.223246772394\n",
      "  (8, 1028)\t0.215127904721\n",
      "  (8, 7265)\t0.200793180274\n",
      "  (8, 5176)\t0.190803658853\n",
      "  (8, 3572)\t0.116564662538\n",
      "  (8, 3449)\t0.172818514477\n",
      "  (8, 2329)\t0.149496338532\n",
      "  (8, 3821)\t0.131382942224\n",
      "  (8, 1453)\t0.306511697412\n",
      "  (8, 7531)\t0.306511697412\n",
      "  (8, 5138)\t0.238941581031\n",
      "  (8, 3834)\t0.203366518156\n",
      "  (8, 1097)\t0.258373775234\n",
      "  (8, 6223)\t0.250625300445\n",
      "  (9, 8150)\t0.26566554415\n",
      "  (9, 7914)\t0.466609254135\n",
      "  (9, 3324)\t0.435740933055\n",
      "  (9, 4670)\t0.361084982425\n",
      "  (9, 3185)\t0.489859818417\n",
      "  (9, 1718)\t0.389207471195\n",
      "[[ 0.  0.  0. ...,  0.  0.  0.]\n",
      " [ 0.  0.  0. ...,  0.  0.  0.]\n",
      " [ 0.  0.  0. ...,  0.  0.  0.]\n",
      " ..., \n",
      " [ 0.  0.  0. ...,  0.  0.  0.]\n",
      " [ 0.  0.  0. ...,  0.  0.  0.]\n",
      " [ 0.  0.  0. ...,  0.  0.  0.]]\n"
     ]
    }
   ],
   "source": [
    "# split into train and test\n",
    "from sklearn import cross_validation\n",
    "data_train, data_test, labels_train, labels_test = cross_validation.train_test_split(\n",
    "    df.v2,\n",
    "    df.v1, \n",
    "    test_size=0.1, \n",
    "    random_state=42)\n",
    "\n",
    "print (data_train[:10])\n",
    "\n",
    "### text vectorization--go from strings to lists of numbers\n",
    "from sklearn.feature_extraction.text import TfidfVectorizer\n",
    "from sklearn.feature_selection import SelectPercentile, f_classif\n",
    "vectorizer = TfidfVectorizer(sublinear_tf=True, max_df=0.5)\n",
    "data_train_transformed = vectorizer.fit_transform(data_train)\n",
    "data_test_transformed  = vectorizer.transform(data_test)\n",
    "print (\"KJ\")\n",
    "print (data_train_transformed[:10])\n",
    "\n",
    "\n",
    "# slim the data for training and testing\n",
    "selector = SelectPercentile(f_classif, percentile=10)\n",
    "selector.fit(data_train_transformed, labels_train)\n",
    "data_train_transformed = selector.transform(data_train_transformed).toarray()\n",
    "data_test_transformed  = selector.transform(data_test_transformed).toarray()\n",
    "\n",
    "print (data_train_transformed[:10])"
   ]
  },
  {
   "cell_type": "code",
   "execution_count": 15,
   "metadata": {
    "collapsed": false
   },
   "outputs": [
    {
     "name": "stdout",
     "output_type": "stream",
     "text": [
      "0.974910394265\n"
     ]
    }
   ],
   "source": [
    "from sklearn.naive_bayes import GaussianNB\n",
    "from sklearn.metrics import accuracy_score\n",
    "\n",
    "clf = GaussianNB()\n",
    "clf.fit(data_train_transformed, labels_train)\n",
    "predictions = clf.predict(data_test_transformed)\n",
    "\n",
    "print (accuracy_score(labels_test, predictions))"
   ]
  },
  {
   "cell_type": "code",
   "execution_count": null,
   "metadata": {
    "collapsed": true
   },
   "outputs": [],
   "source": []
  }
 ],
 "metadata": {
  "kernelspec": {
   "display_name": "Python 3",
   "language": "python",
   "name": "python3"
  },
  "language_info": {
   "codemirror_mode": {
    "name": "ipython",
    "version": 3
   },
   "file_extension": ".py",
   "mimetype": "text/x-python",
   "name": "python",
   "nbconvert_exporter": "python",
   "pygments_lexer": "ipython3",
   "version": "3.6.0"
  }
 },
 "nbformat": 4,
 "nbformat_minor": 2
}
